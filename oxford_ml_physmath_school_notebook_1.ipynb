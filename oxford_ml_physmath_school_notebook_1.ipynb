{
  "nbformat": 4,
  "nbformat_minor": 0,
  "metadata": {
    "colab": {
      "provenance": [],
      "gpuType": "T4"
    },
    "kernelspec": {
      "name": "python3",
      "display_name": "Python 3"
    },
    "language_info": {
      "name": "python"
    }
  },
  "cells": [
    {
      "cell_type": "markdown",
      "source": [
        "(This is an early draft of a notebook to be used in the first lab of the 'Machine Learning in Mathematics & Theoretical Physics' school in Oxford in July 2023.)"
      ],
      "metadata": {
        "id": "t9uXcEleyWIk"
      }
    },
    {
      "cell_type": "code",
      "source": [
        "import torch\n",
        "import torchvision\n",
        "from torch import nn\n",
        "from torch.utils.data import DataLoader\n",
        "from torchvision import datasets#, transforms\n",
        "from torchvision.transforms import ToTensor\n",
        "\n",
        "import matplotlib.pyplot as plt\n",
        "import numpy as np"
      ],
      "metadata": {
        "id": "UR3L_ZaIv0ce"
      },
      "execution_count": null,
      "outputs": []
    },
    {
      "cell_type": "markdown",
      "source": [
        "# Introduction\n",
        "\n",
        "## Jupyter notebooks and cloud platforms\n",
        "\n",
        "(A basic introduction to Jupyter notebooks, and then cloud platforms like Google Colab and Kaggle Notebooks.)\n",
        "\n",
        "...\n",
        "\n",
        "Two of the most popular cloud platforms are [Google Colab](https://colab.research.google.com/) and [Kaggle notebooks](https://www.kaggle.com/docs/notebooks). You can also use Jupyter's own [applications](https://jupyter.org/try).\n",
        "\n",
        "In Google Colab, to run a code cell, click it and then either press Shift-Enter or click the arrow button at the left of the cell. You'll see that clicking the code cell also lets you edit it. For a text cell (like this one), double click it to edit, and when you're done editing press Shift-Enter. For more information take a look at Colab [welcome page](https://colab.research.google.com/).\n",
        "\n",
        "If there is an online notebook that you don't want to interact with but simply view, you can do that with nbviewer like [this](https://nbviewer.org/github/callum-ryan-brodie/oxford-ml-physmath-school/blob/main/oxford_ml_physmath_school_notebook_1.ipynb).\n",
        "\n",
        "## Deep learning frameworks: PyTorch vs TensorFlow\n",
        "\n",
        "The most popular frameworks for deep learning are PyTorch and TensorFlow. Within academic publications, TensorFlow was dominant in the past, but more recently it has been rivaled in popularity by PyTorch. In particular, amongst published papers and their accompanying codebases, one sees that PyTorch is now the much more widely-used of the two, as shown in the following plots (taken from [this blog post](https://www.assemblyai.com/blog/pytorch-vs-tensorflow-in-2023/), which contains more details).\n",
        "\n",
        "...\n",
        "\n",
        "<img alt=\"PyTorch vs Tensorflow: papers in 2023\" width=\"500\" src=\"https://github.com/callum-ryan-brodie/oxford-ml-physmath-school/blob/main/images/assemblyai_papers_2023_plot.png?raw=1\"/>\n",
        "\n",
        "<img alt=\"PyTorch vs Tensorflow: repos in 2023\" width=\"500\" src=\"https://github.com/callum-ryan-brodie/oxford-ml-physmath-school/blob/main/images/assemblyai_repos_2023_plot.png?raw=1\"/>\n"
      ],
      "metadata": {
        "id": "n6sxOIqHYckM"
      }
    },
    {
      "cell_type": "markdown",
      "source": [],
      "metadata": {
        "id": "A_IWdSK69aL6"
      }
    },
    {
      "cell_type": "markdown",
      "source": [
        "---\n",
        "## Building neural networks with PyTorch\n",
        "\n"
      ],
      "metadata": {
        "id": "apphAd-OgTJU"
      }
    },
    {
      "cell_type": "markdown",
      "source": [
        "...\n",
        "\n",
        "We will use the ```nn.Sequential``` model. This takes as arguments a set of operations, and as the name implies these operations will be applied in sequence, i.e. one after the other to the input, so that together they perform the operation of a neural network."
      ],
      "metadata": {
        "id": "kbvFWDIjhjvw"
      }
    },
    {
      "cell_type": "code",
      "source": [
        "\n",
        "test_seq_model = nn.Sequential(\n",
        "     nn.Linear(2, 1)\n",
        "    ,nn.Sigmoid()\n",
        ")\n",
        "\n",
        "test_seq_model"
      ],
      "metadata": {
        "colab": {
          "base_uri": "https://localhost:8080/"
        },
        "id": "EfG8ePrhht3-",
        "outputId": "88fb66d4-c405-40e0-a69e-f3bd16322876"
      },
      "execution_count": null,
      "outputs": [
        {
          "output_type": "execute_result",
          "data": {
            "text/plain": [
              "Sequential(\n",
              "  (0): Linear(in_features=2, out_features=1, bias=True)\n",
              "  (1): Sigmoid()\n",
              ")"
            ]
          },
          "metadata": {},
          "execution_count": 22
        }
      ]
    },
    {
      "cell_type": "markdown",
      "source": [
        "For a list of other operations we can include, see the PyTorch [documentation](https://pytorch.org/docs/stable/nn.html)."
      ],
      "metadata": {
        "id": "4TTGBW8thWne"
      }
    },
    {
      "cell_type": "markdown",
      "source": [
        "We can also pick out individual operations in the sequential model:"
      ],
      "metadata": {
        "id": "TN90FmOPhWno"
      }
    },
    {
      "cell_type": "code",
      "source": [
        "seq_model[1]"
      ],
      "metadata": {
        "colab": {
          "base_uri": "https://localhost:8080/"
        },
        "outputId": "e99a8188-a4c7-4cc4-f4e3-96542569afd0",
        "id": "PfWfbgRphWno"
      },
      "execution_count": null,
      "outputs": [
        {
          "output_type": "execute_result",
          "data": {
            "text/plain": [
              "Linear(in_features=784, out_features=25, bias=True)"
            ]
          },
          "metadata": {},
          "execution_count": 11
        }
      ]
    },
    {
      "cell_type": "markdown",
      "source": [
        "Defining the model fixes the neural network architecture, but not the weights. In fact the above initialised the network just with some random weights. So at the moment it's not trained to do anything in particular - given inputs will have fixed outputs but they won't mean anything."
      ],
      "metadata": {
        "id": "39iKFxszhWnp"
      }
    },
    {
      "cell_type": "markdown",
      "source": [
        "---\n",
        "## Interlude: Training a model\n",
        "\n",
        "(Brief overview of training, validation, and test sets)"
      ],
      "metadata": {
        "id": "1Y2RSp0rgfHZ"
      }
    },
    {
      "cell_type": "markdown",
      "source": [
        "---\n",
        "## Training neural networks with PyTorch"
      ],
      "metadata": {
        "id": "kCZ6lNDWgqZ5"
      }
    },
    {
      "cell_type": "markdown",
      "source": [
        "---\n",
        "## Example: Building and training an image classifier"
      ],
      "metadata": {
        "id": "etFyVqLkgtyh"
      }
    },
    {
      "cell_type": "code",
      "source": [
        "train_set = datasets.MNIST(\n",
        "    root=\"data\",\n",
        "    train=True,\n",
        "    download=True,\n",
        "    transform=ToTensor()\n",
        ")\n",
        "\n",
        "test_set = datasets.MNIST(\n",
        "    root=\"data\",\n",
        "    train=False,\n",
        "    download=True,\n",
        "    transform=ToTensor()\n",
        ")"
      ],
      "metadata": {
        "colab": {
          "base_uri": "https://localhost:8080/"
        },
        "id": "P2qe-VDbMyGT",
        "outputId": "c59cf2c7-d504-48f8-be08-eedb719089bd"
      },
      "execution_count": null,
      "outputs": [
        {
          "output_type": "stream",
          "name": "stdout",
          "text": [
            "Downloading http://yann.lecun.com/exdb/mnist/train-images-idx3-ubyte.gz\n",
            "Downloading http://yann.lecun.com/exdb/mnist/train-images-idx3-ubyte.gz to data/MNIST/raw/train-images-idx3-ubyte.gz\n"
          ]
        },
        {
          "output_type": "stream",
          "name": "stderr",
          "text": [
            "100%|██████████| 9912422/9912422 [00:00<00:00, 103382048.87it/s]\n"
          ]
        },
        {
          "output_type": "stream",
          "name": "stdout",
          "text": [
            "Extracting data/MNIST/raw/train-images-idx3-ubyte.gz to data/MNIST/raw\n",
            "\n",
            "Downloading http://yann.lecun.com/exdb/mnist/train-labels-idx1-ubyte.gz\n",
            "Downloading http://yann.lecun.com/exdb/mnist/train-labels-idx1-ubyte.gz to data/MNIST/raw/train-labels-idx1-ubyte.gz\n"
          ]
        },
        {
          "output_type": "stream",
          "name": "stderr",
          "text": [
            "100%|██████████| 28881/28881 [00:00<00:00, 74361997.44it/s]\n"
          ]
        },
        {
          "output_type": "stream",
          "name": "stdout",
          "text": [
            "Extracting data/MNIST/raw/train-labels-idx1-ubyte.gz to data/MNIST/raw\n",
            "\n",
            "Downloading http://yann.lecun.com/exdb/mnist/t10k-images-idx3-ubyte.gz\n",
            "Downloading http://yann.lecun.com/exdb/mnist/t10k-images-idx3-ubyte.gz to data/MNIST/raw/t10k-images-idx3-ubyte.gz\n"
          ]
        },
        {
          "output_type": "stream",
          "name": "stderr",
          "text": [
            "100%|██████████| 1648877/1648877 [00:00<00:00, 34689944.46it/s]\n"
          ]
        },
        {
          "output_type": "stream",
          "name": "stdout",
          "text": [
            "Extracting data/MNIST/raw/t10k-images-idx3-ubyte.gz to data/MNIST/raw\n",
            "\n",
            "Downloading http://yann.lecun.com/exdb/mnist/t10k-labels-idx1-ubyte.gz\n",
            "Downloading http://yann.lecun.com/exdb/mnist/t10k-labels-idx1-ubyte.gz to data/MNIST/raw/t10k-labels-idx1-ubyte.gz\n"
          ]
        },
        {
          "output_type": "stream",
          "name": "stderr",
          "text": [
            "100%|██████████| 4542/4542 [00:00<00:00, 13956431.33it/s]"
          ]
        },
        {
          "output_type": "stream",
          "name": "stdout",
          "text": [
            "Extracting data/MNIST/raw/t10k-labels-idx1-ubyte.gz to data/MNIST/raw\n",
            "\n"
          ]
        },
        {
          "output_type": "stream",
          "name": "stderr",
          "text": [
            "\n"
          ]
        }
      ]
    },
    {
      "cell_type": "markdown",
      "source": [
        "Let's take a look at the structure of the data"
      ],
      "metadata": {
        "id": "m8SqZWMHOwWl"
      }
    },
    {
      "cell_type": "code",
      "source": [
        "image, label = train_set[0]\n",
        "image.shape"
      ],
      "metadata": {
        "colab": {
          "base_uri": "https://localhost:8080/"
        },
        "id": "zcisqzjcEBxs",
        "outputId": "1921fbb1-9105-45e8-cc89-cba42701da64"
      },
      "execution_count": null,
      "outputs": [
        {
          "output_type": "execute_result",
          "data": {
            "text/plain": [
              "torch.Size([1, 28, 28])"
            ]
          },
          "metadata": {},
          "execution_count": 3
        }
      ]
    },
    {
      "cell_type": "markdown",
      "source": [
        "(Q: What would we have instead of 1 if the image was in colour?)"
      ],
      "metadata": {
        "id": "lLWXLb3_UI8w"
      }
    },
    {
      "cell_type": "markdown",
      "source": [
        "We can look at one of the images. (Here `squeeze()` removes the first index of the tensor, as you can see by checking `image.squeeze().shape`.)"
      ],
      "metadata": {
        "id": "2uK4etaBEdYa"
      }
    },
    {
      "cell_type": "code",
      "source": [
        "plt.imshow(image.squeeze(), cmap='gray');"
      ],
      "metadata": {
        "colab": {
          "base_uri": "https://localhost:8080/",
          "height": 430
        },
        "id": "hBTTdilHUX3U",
        "outputId": "a2d69fc1-e833-429e-d808-06c7b8cb7c7c"
      },
      "execution_count": null,
      "outputs": [
        {
          "output_type": "display_data",
          "data": {
            "text/plain": [
              "<Figure size 640x480 with 1 Axes>"
            ],
            "image/png": "[encoded data removed]"
          },
          "metadata": {}
        }
      ]
    },
    {
      "cell_type": "code",
      "source": [
        "BATCH_SIZE = 64\n",
        "\n",
        "train_dataloader = DataLoader(train_set, batch_size=BATCH_SIZE)\n",
        "test_dataloader = DataLoader(test_set, batch_size=BATCH_SIZE)"
      ],
      "metadata": {
        "id": "eYqKfpRiNuLM"
      },
      "execution_count": null,
      "outputs": []
    },
    {
      "cell_type": "markdown",
      "source": [
        "Take a look at a batch"
      ],
      "metadata": {
        "id": "Km03PCnJAo60"
      }
    },
    {
      "cell_type": "code",
      "source": [
        "\n",
        "def imshow(img):\n",
        "    img = img / 2 + 0.5\n",
        "    npimg = img.numpy()\n",
        "    plt.imshow(np.transpose(npimg, (1, 2, 0)))\n",
        "    plt.tick_params(left=False, bottom=False, labelbottom=False, labelleft=False)\n",
        "    plt.show()\n",
        "\n",
        "dataiter = iter(train_dataloader)\n",
        "images, labels = next(dataiter)\n",
        "\n",
        "imshow(torchvision.utils.make_grid(images))"
      ],
      "metadata": {
        "colab": {
          "base_uri": "https://localhost:8080/",
          "height": 406
        },
        "id": "Fe_aZzIqQgFY",
        "outputId": "f61cbeec-1d13-4781-fc00-ea4ab006316d"
      },
      "execution_count": null,
      "outputs": [
        {
          "output_type": "display_data",
          "data": {
            "text/plain": [
              "<Figure size 640x480 with 1 Axes>"
            ],
            "image/png": "[encoded data removed]"
          },
          "metadata": {}
        }
      ]
    },
    {
      "cell_type": "markdown",
      "source": [
        "Construct the neural network\n",
        "\n",
        "The image has $28 \\times 28 = 784$ pixels\n",
        "\n",
        "We will unroll this two-dimensional array into a one-dimensional array with $28 \\times 28 = 784$ elements"
      ],
      "metadata": {
        "id": "Yue2HCRxOppv"
      }
    },
    {
      "cell_type": "markdown",
      "source": [
        "(Q: Would it make sense to make the hidden layer have more nodes than the input layer? Or is it more sensible to give it fewer nodes?)\n",
        "\n",
        "(Q: What about comparing it to the number of nodes in the output layer? Would it be sensible to use fewer nodes than the output layer in this context? What would be the interpretation of doing that?)"
      ],
      "metadata": {
        "id": "H3WxUVjhWyLd"
      }
    },
    {
      "cell_type": "code",
      "source": [
        "num_in = image.numel()\n",
        "num_out = len(train_set.classes)\n",
        "\n",
        "num_hidden = 25 # to be changed"
      ],
      "metadata": {
        "id": "vZ0j0Qwp7R-B"
      },
      "execution_count": null,
      "outputs": []
    },
    {
      "cell_type": "code",
      "source": [
        "\n",
        "seq_model = nn.Sequential(\n",
        "     nn.Flatten(start_dim=1) #leaves the 0th index unflattened\n",
        "    ,nn.Linear(num_in, num_hidden)\n",
        "    ,nn.ReLU()\n",
        "    ,nn.Linear(num_hidden, num_out)\n",
        ")\n",
        "\n",
        "seq_model"
      ],
      "metadata": {
        "colab": {
          "base_uri": "https://localhost:8080/"
        },
        "id": "F8y-sx7NFIpE",
        "outputId": "3b0a9564-d47b-431b-c4e3-e9aa0c2d7aa7"
      },
      "execution_count": null,
      "outputs": [
        {
          "output_type": "execute_result",
          "data": {
            "text/plain": [
              "Sequential(\n",
              "  (0): Flatten(start_dim=1, end_dim=-1)\n",
              "  (1): Linear(in_features=784, out_features=25, bias=True)\n",
              "  (2): ReLU()\n",
              "  (3): Linear(in_features=25, out_features=10, bias=True)\n",
              ")"
            ]
          },
          "metadata": {},
          "execution_count": 10
        }
      ]
    },
    {
      "cell_type": "code",
      "source": [
        "seq_model(image.unsqueeze(0))"
      ],
      "metadata": {
        "colab": {
          "base_uri": "https://localhost:8080/"
        },
        "id": "8_tLgI8z_rzT",
        "outputId": "e6e06bba-4575-4ced-b52b-145a04031ec6"
      },
      "execution_count": null,
      "outputs": [
        {
          "output_type": "execute_result",
          "data": {
            "text/plain": [
              "tensor([[ 0.1659, -0.0778,  0.0013, -0.0289,  0.1541,  0.1693,  0.0243,  0.0824,\n",
              "          0.1477,  0.1054]], grad_fn=<AddmmBackward0>)"
            ]
          },
          "metadata": {},
          "execution_count": 12
        }
      ]
    },
    {
      "cell_type": "markdown",
      "source": [
        "By default, the neural network, and the tensors being passed as inputs and received as outputs, are on the CPU. For example:"
      ],
      "metadata": {
        "id": "SkjL0-TsfWw0"
      }
    },
    {
      "cell_type": "code",
      "source": [
        "image.device"
      ],
      "metadata": {
        "colab": {
          "base_uri": "https://localhost:8080/"
        },
        "id": "7GwArq7eec4x",
        "outputId": "9771be1e-b24b-4312-91f0-692e5ec81647"
      },
      "execution_count": null,
      "outputs": [
        {
          "output_type": "execute_result",
          "data": {
            "text/plain": [
              "device(type='cpu')"
            ]
          },
          "metadata": {},
          "execution_count": 13
        }
      ]
    },
    {
      "cell_type": "markdown",
      "source": [
        "(Discussion of training on a GPU vs a CPU.)"
      ],
      "metadata": {
        "id": "z3bC4p7NwbSt"
      }
    },
    {
      "cell_type": "code",
      "source": [
        "device = (\n",
        "    \"cuda\"\n",
        "    if torch.cuda.is_available()\n",
        "    else \"mps\"\n",
        "    if torch.backends.mps.is_available()\n",
        "    else \"cpu\"\n",
        ")\n",
        "print(f\"Using {device} device\")\n",
        "\n",
        "# We tell it we want to use the GPU\n",
        "seq_model.to(device);"
      ],
      "metadata": {
        "colab": {
          "base_uri": "https://localhost:8080/"
        },
        "id": "_TkEpie__CmC",
        "outputId": "68cbaff8-689a-4ea1-b324-edeba307d6c7"
      },
      "execution_count": null,
      "outputs": [
        {
          "output_type": "stream",
          "name": "stdout",
          "text": [
            "Using cpu device\n"
          ]
        }
      ]
    },
    {
      "cell_type": "markdown",
      "source": [
        "The network and the tensors being passed to it need to be on the same device.For example, if we try to pass a tensor living on the CPU to the network which lives on the GPU, we will get an error, as you can see by running the following code cell."
      ],
      "metadata": {
        "id": "NcqP5imvetdq"
      }
    },
    {
      "cell_type": "code",
      "source": [
        "try:\n",
        "  seq_model(image.unsqueeze(0)).device\n",
        "except Exception as e:\n",
        "  print(e)"
      ],
      "metadata": {
        "id": "IJ47ATTjrR5d"
      },
      "execution_count": null,
      "outputs": []
    },
    {
      "cell_type": "code",
      "source": [
        "seq_model(image.unsqueeze(0).to(device)).device"
      ],
      "metadata": {
        "colab": {
          "base_uri": "https://localhost:8080/"
        },
        "id": "YdrsoTGBeicg",
        "outputId": "3164a476-3ff6-4e45-a196-a83d902e61d1"
      },
      "execution_count": null,
      "outputs": [
        {
          "output_type": "execute_result",
          "data": {
            "text/plain": [
              "device(type='cpu')"
            ]
          },
          "metadata": {},
          "execution_count": 16
        }
      ]
    },
    {
      "cell_type": "markdown",
      "source": [
        "Set up gradient descent"
      ],
      "metadata": {
        "id": "fXRAbpz3OYcW"
      }
    },
    {
      "cell_type": "code",
      "source": [
        "learning_rate = 1e-3\n",
        "\n",
        "optimizer = torch.optim.Adam(seq_model.parameters(), lr=learning_rate)"
      ],
      "metadata": {
        "id": "x_2cdfdgOYBQ"
      },
      "execution_count": null,
      "outputs": []
    },
    {
      "cell_type": "markdown",
      "source": [
        "The loss function"
      ],
      "metadata": {
        "id": "23PTSmxoLBWV"
      }
    },
    {
      "cell_type": "code",
      "source": [
        "loss_fn = nn.CrossEntropyLoss()"
      ],
      "metadata": {
        "id": "xfLTBxCbLAj7"
      },
      "execution_count": null,
      "outputs": []
    },
    {
      "cell_type": "code",
      "source": [
        "def train_loop(dataloader, model, loss_fn, optimizer):\n",
        "    size = len(dataloader.dataset)\n",
        "    model.train()\n",
        "    for batch, (X, y) in enumerate(dataloader):\n",
        "        X, y = X.to(device), y.to(device)\n",
        "\n",
        "        pred = model(X)\n",
        "        loss = loss_fn(pred, y)\n",
        "\n",
        "        loss.backward()\n",
        "        optimizer.step()\n",
        "        optimizer.zero_grad()\n",
        "\n",
        "        if batch % 100 == 0:\n",
        "            loss, current = loss.item(), (batch + 1) * len(X)\n",
        "            print(f\"loss: {loss:>7f}  [{current:>5d}/{size:>5d}]\")\n",
        "\n",
        "\n",
        "#def test_loop(dataloader, model, loss_fn):\n",
        "#    model.eval()\n",
        "#    size = len(dataloader.dataset)\n",
        "#    num_batches = len(dataloader)\n",
        "#    test_loss, correct = 0, 0\n",
        "\n",
        "def test_loop(dataloader, model, loss_fn):\n",
        "    size = len(dataloader.dataset)\n",
        "    num_batches = len(dataloader)\n",
        "    model.eval()\n",
        "    test_loss, correct = 0, 0\n",
        "    with torch.no_grad():\n",
        "        for X, y in dataloader:\n",
        "            X, y = X.to(device), y.to(device)\n",
        "            pred = model(X)\n",
        "            test_loss += loss_fn(pred, y).item()\n",
        "            correct += (pred.argmax(1) == y).type(torch.float).sum().item()\n",
        "    test_loss /= num_batches\n",
        "    correct /= size\n",
        "    print(f\"Test Error: \\n Accuracy: {(100*correct):>0.1f}%, Avg loss: {test_loss:>8f} \\n\")"
      ],
      "metadata": {
        "id": "K_l9qShsKVTo"
      },
      "execution_count": null,
      "outputs": []
    },
    {
      "cell_type": "code",
      "source": [
        "epochs = 5\n",
        "for t in range(epochs):\n",
        "    print(f\"Epoch {t+1}\\n-------------------------------\")\n",
        "    train_loop(train_dataloader, seq_model, loss_fn, optimizer)\n",
        "    test_loop(test_dataloader, seq_model, loss_fn)\n",
        "print(\"Done!\")"
      ],
      "metadata": {
        "colab": {
          "base_uri": "https://localhost:8080/"
        },
        "id": "Xo2nG_yOLP2a",
        "outputId": "9803c116-5f75-4057-9c4e-15a565a7a436"
      },
      "execution_count": null,
      "outputs": [
        {
          "output_type": "stream",
          "name": "stdout",
          "text": [
            "Epoch 1\n",
            "-------------------------------\n",
            "loss: 2.306519  [   64/60000]\n",
            "loss: 0.685290  [ 6464/60000]\n",
            "loss: 0.423762  [12864/60000]\n",
            "loss: 0.448461  [19264/60000]\n",
            "loss: 0.293061  [25664/60000]\n",
            "loss: 0.359924  [32064/60000]\n",
            "loss: 0.205110  [38464/60000]\n",
            "loss: 0.417699  [44864/60000]\n",
            "loss: 0.337745  [51264/60000]\n",
            "loss: 0.348609  [57664/60000]\n",
            "Test Error: \n",
            " Accuracy: 91.9%, Avg loss: 0.284996 \n",
            "\n",
            "Epoch 2\n",
            "-------------------------------\n",
            "loss: 0.232665  [   64/60000]\n",
            "loss: 0.262884  [ 6464/60000]\n",
            "loss: 0.184519  [12864/60000]\n",
            "loss: 0.319760  [19264/60000]\n",
            "loss: 0.234365  [25664/60000]\n",
            "loss: 0.307769  [32064/60000]\n",
            "loss: 0.145983  [38464/60000]\n",
            "loss: 0.379304  [44864/60000]\n",
            "loss: 0.269052  [51264/60000]\n",
            "loss: 0.279720  [57664/60000]\n",
            "Test Error: \n",
            " Accuracy: 92.8%, Avg loss: 0.242640 \n",
            "\n",
            "Epoch 3\n",
            "-------------------------------\n",
            "loss: 0.164791  [   64/60000]\n",
            "loss: 0.223119  [ 6464/60000]\n",
            "loss: 0.145085  [12864/60000]\n",
            "loss: 0.274339  [19264/60000]\n",
            "loss: 0.227759  [25664/60000]\n",
            "loss: 0.271248  [32064/60000]\n",
            "loss: 0.122027  [38464/60000]\n",
            "loss: 0.337710  [44864/60000]\n",
            "loss: 0.234860  [51264/60000]\n",
            "loss: 0.241712  [57664/60000]\n",
            "Test Error: \n",
            " Accuracy: 93.6%, Avg loss: 0.213431 \n",
            "\n",
            "Epoch 4\n",
            "-------------------------------\n",
            "loss: 0.131620  [   64/60000]\n",
            "loss: 0.184055  [ 6464/60000]\n",
            "loss: 0.120988  [12864/60000]\n",
            "loss: 0.242456  [19264/60000]\n",
            "loss: 0.198680  [25664/60000]\n",
            "loss: 0.256682  [32064/60000]\n",
            "loss: 0.099277  [38464/60000]\n",
            "loss: 0.297559  [44864/60000]\n",
            "loss: 0.198741  [51264/60000]\n",
            "loss: 0.223360  [57664/60000]\n",
            "Test Error: \n",
            " Accuracy: 94.1%, Avg loss: 0.191863 \n",
            "\n",
            "Epoch 5\n",
            "-------------------------------\n",
            "loss: 0.112524  [   64/60000]\n",
            "loss: 0.153354  [ 6464/60000]\n",
            "loss: 0.116102  [12864/60000]\n",
            "loss: 0.214470  [19264/60000]\n",
            "loss: 0.170290  [25664/60000]\n",
            "loss: 0.239132  [32064/60000]\n",
            "loss: 0.092666  [38464/60000]\n",
            "loss: 0.276888  [44864/60000]\n",
            "loss: 0.174251  [51264/60000]\n",
            "loss: 0.208796  [57664/60000]\n",
            "Test Error: \n",
            " Accuracy: 94.6%, Avg loss: 0.176179 \n",
            "\n",
            "Done!\n"
          ]
        }
      ]
    },
    {
      "cell_type": "markdown",
      "source": [
        "---\n",
        "### Interpretability of a neural network\n",
        "\n",
        "Check out [this video](https://youtu.be/aircAruvnKk) by 3Blue1Brown, in the specific context of handwritten digit recognition\n",
        "\n",
        "Check out Figure 2 of [this paper](https://arxiv.org/abs/1311.2901), in the broader context of image recognition"
      ],
      "metadata": {
        "id": "WEyemFMMyRNK"
      }
    },
    {
      "cell_type": "markdown",
      "source": [
        "# Other exercises\n",
        "\n",
        "(Possibly I should include some basic training of linear and logistic regression. Or maybe to fit best with the lectures I'll just stick with neural networks.)"
      ],
      "metadata": {
        "id": "wbdG_ic1wxQu"
      }
    },
    {
      "cell_type": "markdown",
      "source": [
        "---\n",
        "# Linear and logistic regression\n",
        "\n",
        "Single input: $x$\n",
        "\n",
        "Include the bias:\n",
        "$\\tilde{x} = (1,x)$\n",
        "\n",
        "Also useful then to define:\n",
        "$\\tilde{\\theta} = (1,\\theta)$\n",
        "\n",
        "Matrix with $\\tilde{x}^{(i)}$ as rows: $\\tilde{X}$"
      ],
      "metadata": {
        "id": "zwoI3zXZ-wu9"
      }
    },
    {
      "cell_type": "code",
      "source": [
        "import numpy as np"
      ],
      "metadata": {
        "id": "JgOi6tcK_wdO"
      },
      "execution_count": null,
      "outputs": []
    },
    {
      "cell_type": "markdown",
      "source": [
        "## Linear regression"
      ],
      "metadata": {
        "id": "3mKxVw_U9Unz"
      }
    },
    {
      "cell_type": "markdown",
      "source": [
        "### The cost function\n",
        "\n",
        "The classic cost function in linear regression is the sum-of-squares,\n",
        "$$\n",
        "J(\\Theta) = \\frac{1}{2m}\\sum_{i=1}^m(h_\\Theta(x^{(i)})-y^{(i)})^2 \\,.\n",
        "$$\n",
        "\n",
        "$\\Theta X$\n",
        "\n",
        "(See for example Chapter 1 of Bishop for a deeper understanding of whether the sum-of-squares is a sensible cost function.)\n",
        "\n",
        "In the above notation, the predicted value is\n",
        "$$\n",
        "h_\\Theta(x^{(i)}) = 1 + \\theta \\cdot x^{(i)} \\equiv \\tilde{\\theta} \\cdot \\tilde{x}^{(i)}\n",
        "$$\n",
        "\n",
        "\n",
        "To compute , and the overall sum, you could use a set of `for` loops, but where possible it is typically much faster to use implementations of matrix and vector operations from a standard software\n",
        "libary such as NumPy. The syntax for some NumPy operations you might to use below are as follows.\n",
        "\n",
        "```python\n",
        "# import numpy as np\n",
        "\n",
        "# Matrix multiplication:\n",
        "np.dot(A,B)\n",
        "\n",
        "# Dot product between two vectors:\n",
        "np.inner(u,v)\n",
        "```"
      ],
      "metadata": {
        "id": "Dtr2-MBz92ox"
      }
    },
    {
      "cell_type": "code",
      "source": [
        "def compute_cost_lin(X, y, Theta):\n",
        "\n",
        "  m = len(y); # number of training examples\n",
        "\n",
        "  diffs = (np.dot(X,Theta)-y)\n",
        "  J = (1/(2*m)) * np.inner(diffs,diffs)\n",
        "\n",
        "  return J"
      ],
      "metadata": {
        "id": "aKLblOwh_JV9"
      },
      "execution_count": null,
      "outputs": []
    },
    {
      "cell_type": "markdown",
      "source": [
        "### Gradient descent"
      ],
      "metadata": {
        "id": "PAo4zI6r9tUF"
      }
    },
    {
      "cell_type": "markdown",
      "source": [
        "### Training the model"
      ],
      "metadata": {
        "id": "Zv4semuv9ylv"
      }
    },
    {
      "cell_type": "markdown",
      "source": [
        "## Logistic regression"
      ],
      "metadata": {
        "id": "bSiMrx-K9XD3"
      }
    },
    {
      "cell_type": "markdown",
      "source": [
        "---\n",
        "# Deep learning with a CPU vs a GPU (vs a TPU)\n",
        "\n",
        "getting set up locally to get the software library to use your gpu can be fiddly\n",
        "\n",
        "## Google Colab\n",
        "\n",
        "If you're using Google Colab, you can switch between a CPU, a GPU, or a TPU by clicking 'Change runtime type' under 'Runtume' in the menu bar. You can experiment to see how the change affects the training of your neural network.\n",
        "\n",
        "Note that unless you pay for pay for Colab Pro / Pro+ (or pay individually for compute units), Google places a quota on how much GPU / TPU compute time you can use in a given time period. (The precise quotas aren't published, ostensibly because they tend to vary over time.)\n",
        "\n",
        "(You can also use a GPU or a TPU in a Kaggle notebook, by opening the sidebar (by clicking on the tiny arrow in the bottom right), and expanding 'Notebook options'.)\n",
        "\n",
        "### Ending your session\n",
        "\n",
        "If you're using Google Colab with a GPU / TPU, then to conserve your compute allowance you may want to make sure you end your session when you're done. This can be done either by clicking 'Disconnect and delete runtime' under 'Runtime' in the menu bar, or in a cell with the following code:\n",
        "\n",
        "```python\n",
        "from google.colab import runtime\n",
        "runtime.unassign()\n",
        "```"
      ],
      "metadata": {
        "id": "0_3J1jMcSxbn"
      }
    }
  ]
}